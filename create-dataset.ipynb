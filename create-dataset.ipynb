{
 "cells": [
  {
   "cell_type": "markdown",
   "metadata": {},
   "source": [
    "## Create the Gapminder dataset"
   ]
  },
  {
   "cell_type": "code",
   "execution_count": 2,
   "metadata": {},
   "outputs": [
    {
     "name": "stdout",
     "output_type": "stream",
     "text": [
      "Collecting gapminder\n",
      "  Downloading gapminder-0.1-py3-none-any.whl (32 kB)\n",
      "Requirement already satisfied: pandas in /Library/Frameworks/Python.framework/Versions/3.11/lib/python3.11/site-packages (from gapminder) (1.5.2)\n",
      "Requirement already satisfied: python-dateutil>=2.8.1 in /Users/chengruzou/Library/Python/3.11/lib/python/site-packages (from pandas->gapminder) (2.8.2)\n",
      "Requirement already satisfied: pytz>=2020.1 in /Library/Frameworks/Python.framework/Versions/3.11/lib/python3.11/site-packages (from pandas->gapminder) (2022.7.1)\n",
      "Requirement already satisfied: numpy>=1.21.0 in /Library/Frameworks/Python.framework/Versions/3.11/lib/python3.11/site-packages (from pandas->gapminder) (1.24.1)\n",
      "Requirement already satisfied: six>=1.5 in /Users/chengruzou/Library/Python/3.11/lib/python/site-packages (from python-dateutil>=2.8.1->pandas->gapminder) (1.16.0)\n",
      "Installing collected packages: gapminder\n",
      "Successfully installed gapminder-0.1\n",
      "\n",
      "\u001b[1m[\u001b[0m\u001b[34;49mnotice\u001b[0m\u001b[1;39;49m]\u001b[0m\u001b[39;49m A new release of pip available: \u001b[0m\u001b[31;49m22.3.1\u001b[0m\u001b[39;49m -> \u001b[0m\u001b[32;49m25.0.1\u001b[0m\n",
      "\u001b[1m[\u001b[0m\u001b[34;49mnotice\u001b[0m\u001b[1;39;49m]\u001b[0m\u001b[39;49m To update, run: \u001b[0m\u001b[32;49mpython3 -m pip install --upgrade pip\u001b[0m\n",
      "Note: you may need to restart the kernel to use updated packages.\n"
     ]
    }
   ],
   "source": [
    "pip install gapminder"
   ]
  },
  {
   "cell_type": "code",
   "execution_count": 3,
   "metadata": {},
   "outputs": [
    {
     "name": "stdout",
     "output_type": "stream",
     "text": [
      "       country continent  year  life_expectancy  population_millions  \\\n",
      "0  Afghanistan      Asia  1952           28.801             8.425333   \n",
      "1  Afghanistan      Asia  1957           30.332             9.240934   \n",
      "2  Afghanistan      Asia  1962           31.997            10.267083   \n",
      "\n",
      "   gdp_per_capita  \n",
      "0      779.445314  \n",
      "1      820.853030  \n",
      "2      853.100710  \n"
     ]
    }
   ],
   "source": [
    "# Import necessary libraries\n",
    "import pandas as pd\n",
    "from gapminder import gapminder\n",
    "\n",
    "# Rename 'lifeExp' to 'life_expectancy' and 'gdpPercap' to 'gdp_per_capita'\n",
    "gapminder = gapminder.rename(columns={'lifeExp': 'life_expectancy',\n",
    "                                      'pop': 'population_millions', \n",
    "                                      'gdpPercap': 'gdp_per_capita'})\n",
    "\n",
    "# Convert population to millions\n",
    "gapminder['population_millions'] = gapminder['population_millions'] / 1_000_000\n",
    "\n",
    "# Create a new pandas DataFrame from the modified gapminder data\n",
    "gapminder_df = pd.DataFrame(gapminder)\n",
    "\n",
    "# Save the DataFrame as a CSV file\n",
    "gapminder_df.to_csv('gapminder.csv', index=False)\n",
    "\n",
    "# Print the first 3 rows of the DataFrame\n",
    "print(gapminder_df.head(3))"
   ]
  },
  {
   "cell_type": "code",
   "execution_count": 4,
   "metadata": {},
   "outputs": [
    {
     "data": {
      "application/vnd.microsoft.datawrangler.viewer.v0+json": {
       "columns": [
        {
         "name": "index",
         "rawType": "int64",
         "type": "integer"
        },
        {
         "name": "country",
         "rawType": "object",
         "type": "string"
        },
        {
         "name": "continent",
         "rawType": "object",
         "type": "string"
        },
        {
         "name": "year",
         "rawType": "int64",
         "type": "integer"
        },
        {
         "name": "life_expectancy",
         "rawType": "float64",
         "type": "float"
        },
        {
         "name": "population_millions",
         "rawType": "float64",
         "type": "float"
        },
        {
         "name": "gdp_per_capita",
         "rawType": "float64",
         "type": "float"
        }
       ],
       "conversionMethod": "pd.DataFrame",
       "ref": "97310f3d-1881-4390-8622-652231e34125",
       "rows": [
        [
         "0",
         "Afghanistan",
         "Asia",
         "1952",
         "28.801",
         "8.425333",
         "779.4453145"
        ],
        [
         "1",
         "Afghanistan",
         "Asia",
         "1957",
         "30.332",
         "9.240934",
         "820.8530296"
        ],
        [
         "2",
         "Afghanistan",
         "Asia",
         "1962",
         "31.997",
         "10.267083",
         "853.10071"
        ],
        [
         "3",
         "Afghanistan",
         "Asia",
         "1967",
         "34.02",
         "11.537966",
         "836.1971382"
        ],
        [
         "4",
         "Afghanistan",
         "Asia",
         "1972",
         "36.088",
         "13.07946",
         "739.9811058"
        ],
        [
         "5",
         "Afghanistan",
         "Asia",
         "1977",
         "38.438",
         "14.880372",
         "786.11336"
        ],
        [
         "6",
         "Afghanistan",
         "Asia",
         "1982",
         "39.854",
         "12.881816",
         "978.0114388"
        ],
        [
         "7",
         "Afghanistan",
         "Asia",
         "1987",
         "40.822",
         "13.867957",
         "852.3959448"
        ],
        [
         "8",
         "Afghanistan",
         "Asia",
         "1992",
         "41.674",
         "16.317921",
         "649.3413952"
        ],
        [
         "9",
         "Afghanistan",
         "Asia",
         "1997",
         "41.763",
         "22.227415",
         "635.341351"
        ],
        [
         "10",
         "Afghanistan",
         "Asia",
         "2002",
         "42.129",
         "25.268405",
         "726.7340548"
        ],
        [
         "11",
         "Afghanistan",
         "Asia",
         "2007",
         "43.828",
         "31.889923",
         "974.5803384"
        ],
        [
         "12",
         "Albania",
         "Europe",
         "1952",
         "55.23",
         "1.282697",
         "1601.056136"
        ],
        [
         "13",
         "Albania",
         "Europe",
         "1957",
         "59.28",
         "1.476505",
         "1942.284244"
        ],
        [
         "14",
         "Albania",
         "Europe",
         "1962",
         "64.82",
         "1.728137",
         "2312.888958"
        ],
        [
         "15",
         "Albania",
         "Europe",
         "1967",
         "66.22",
         "1.98406",
         "2760.196931"
        ],
        [
         "16",
         "Albania",
         "Europe",
         "1972",
         "67.69",
         "2.263554",
         "3313.422188"
        ],
        [
         "17",
         "Albania",
         "Europe",
         "1977",
         "68.93",
         "2.509048",
         "3533.00391"
        ],
        [
         "18",
         "Albania",
         "Europe",
         "1982",
         "70.42",
         "2.780097",
         "3630.880722"
        ],
        [
         "19",
         "Albania",
         "Europe",
         "1987",
         "72.0",
         "3.075321",
         "3738.932735"
        ],
        [
         "20",
         "Albania",
         "Europe",
         "1992",
         "71.581",
         "3.326498",
         "2497.437901"
        ],
        [
         "21",
         "Albania",
         "Europe",
         "1997",
         "72.95",
         "3.428038",
         "3193.054604"
        ],
        [
         "22",
         "Albania",
         "Europe",
         "2002",
         "75.651",
         "3.508512",
         "4604.211737"
        ],
        [
         "23",
         "Albania",
         "Europe",
         "2007",
         "76.423",
         "3.600523",
         "5937.029526"
        ],
        [
         "24",
         "Algeria",
         "Africa",
         "1952",
         "43.077",
         "9.279525",
         "2449.008185"
        ],
        [
         "25",
         "Algeria",
         "Africa",
         "1957",
         "45.685",
         "10.270856",
         "3013.976023"
        ],
        [
         "26",
         "Algeria",
         "Africa",
         "1962",
         "48.303",
         "11.000948",
         "2550.81688"
        ],
        [
         "27",
         "Algeria",
         "Africa",
         "1967",
         "51.407",
         "12.760499",
         "3246.991771"
        ],
        [
         "28",
         "Algeria",
         "Africa",
         "1972",
         "54.518",
         "14.760787",
         "4182.663766"
        ],
        [
         "29",
         "Algeria",
         "Africa",
         "1977",
         "58.014",
         "17.152804",
         "4910.416756"
        ],
        [
         "30",
         "Algeria",
         "Africa",
         "1982",
         "61.368",
         "20.033753",
         "5745.160213"
        ],
        [
         "31",
         "Algeria",
         "Africa",
         "1987",
         "65.799",
         "23.254956",
         "5681.358539"
        ],
        [
         "32",
         "Algeria",
         "Africa",
         "1992",
         "67.744",
         "26.298373",
         "5023.216647"
        ],
        [
         "33",
         "Algeria",
         "Africa",
         "1997",
         "69.152",
         "29.072015",
         "4797.295051"
        ],
        [
         "34",
         "Algeria",
         "Africa",
         "2002",
         "70.994",
         "31.287142",
         "5288.040382"
        ],
        [
         "35",
         "Algeria",
         "Africa",
         "2007",
         "72.301",
         "33.333216",
         "6223.367465"
        ],
        [
         "36",
         "Angola",
         "Africa",
         "1952",
         "30.015",
         "4.232095",
         "3520.610273"
        ],
        [
         "37",
         "Angola",
         "Africa",
         "1957",
         "31.999",
         "4.561361",
         "3827.940465"
        ],
        [
         "38",
         "Angola",
         "Africa",
         "1962",
         "34.0",
         "4.826015",
         "4269.276742"
        ],
        [
         "39",
         "Angola",
         "Africa",
         "1967",
         "35.985",
         "5.247469",
         "5522.776375"
        ],
        [
         "40",
         "Angola",
         "Africa",
         "1972",
         "37.928",
         "5.894858",
         "5473.288005"
        ],
        [
         "41",
         "Angola",
         "Africa",
         "1977",
         "39.483",
         "6.162675",
         "3008.647355"
        ],
        [
         "42",
         "Angola",
         "Africa",
         "1982",
         "39.942",
         "7.016384",
         "2756.953672"
        ],
        [
         "43",
         "Angola",
         "Africa",
         "1987",
         "39.906",
         "7.87423",
         "2430.208311"
        ],
        [
         "44",
         "Angola",
         "Africa",
         "1992",
         "40.647",
         "8.735988",
         "2627.845685"
        ],
        [
         "45",
         "Angola",
         "Africa",
         "1997",
         "40.963",
         "9.875024",
         "2277.140884"
        ],
        [
         "46",
         "Angola",
         "Africa",
         "2002",
         "41.003",
         "10.866106",
         "2773.287312"
        ],
        [
         "47",
         "Angola",
         "Africa",
         "2007",
         "42.731",
         "12.420476",
         "4797.231267"
        ],
        [
         "48",
         "Argentina",
         "Americas",
         "1952",
         "62.485",
         "17.876956",
         "5911.315053"
        ],
        [
         "49",
         "Argentina",
         "Americas",
         "1957",
         "64.399",
         "19.610538",
         "6856.856212"
        ]
       ],
       "shape": {
        "columns": 6,
        "rows": 1704
       }
      },
      "text/html": [
       "<div>\n",
       "<style scoped>\n",
       "    .dataframe tbody tr th:only-of-type {\n",
       "        vertical-align: middle;\n",
       "    }\n",
       "\n",
       "    .dataframe tbody tr th {\n",
       "        vertical-align: top;\n",
       "    }\n",
       "\n",
       "    .dataframe thead th {\n",
       "        text-align: right;\n",
       "    }\n",
       "</style>\n",
       "<table border=\"1\" class=\"dataframe\">\n",
       "  <thead>\n",
       "    <tr style=\"text-align: right;\">\n",
       "      <th></th>\n",
       "      <th>country</th>\n",
       "      <th>continent</th>\n",
       "      <th>year</th>\n",
       "      <th>life_expectancy</th>\n",
       "      <th>population_millions</th>\n",
       "      <th>gdp_per_capita</th>\n",
       "    </tr>\n",
       "  </thead>\n",
       "  <tbody>\n",
       "    <tr>\n",
       "      <th>0</th>\n",
       "      <td>Afghanistan</td>\n",
       "      <td>Asia</td>\n",
       "      <td>1952</td>\n",
       "      <td>28.801</td>\n",
       "      <td>8.425333</td>\n",
       "      <td>779.445314</td>\n",
       "    </tr>\n",
       "    <tr>\n",
       "      <th>1</th>\n",
       "      <td>Afghanistan</td>\n",
       "      <td>Asia</td>\n",
       "      <td>1957</td>\n",
       "      <td>30.332</td>\n",
       "      <td>9.240934</td>\n",
       "      <td>820.853030</td>\n",
       "    </tr>\n",
       "    <tr>\n",
       "      <th>2</th>\n",
       "      <td>Afghanistan</td>\n",
       "      <td>Asia</td>\n",
       "      <td>1962</td>\n",
       "      <td>31.997</td>\n",
       "      <td>10.267083</td>\n",
       "      <td>853.100710</td>\n",
       "    </tr>\n",
       "    <tr>\n",
       "      <th>3</th>\n",
       "      <td>Afghanistan</td>\n",
       "      <td>Asia</td>\n",
       "      <td>1967</td>\n",
       "      <td>34.020</td>\n",
       "      <td>11.537966</td>\n",
       "      <td>836.197138</td>\n",
       "    </tr>\n",
       "    <tr>\n",
       "      <th>4</th>\n",
       "      <td>Afghanistan</td>\n",
       "      <td>Asia</td>\n",
       "      <td>1972</td>\n",
       "      <td>36.088</td>\n",
       "      <td>13.079460</td>\n",
       "      <td>739.981106</td>\n",
       "    </tr>\n",
       "    <tr>\n",
       "      <th>...</th>\n",
       "      <td>...</td>\n",
       "      <td>...</td>\n",
       "      <td>...</td>\n",
       "      <td>...</td>\n",
       "      <td>...</td>\n",
       "      <td>...</td>\n",
       "    </tr>\n",
       "    <tr>\n",
       "      <th>1699</th>\n",
       "      <td>Zimbabwe</td>\n",
       "      <td>Africa</td>\n",
       "      <td>1987</td>\n",
       "      <td>62.351</td>\n",
       "      <td>9.216418</td>\n",
       "      <td>706.157306</td>\n",
       "    </tr>\n",
       "    <tr>\n",
       "      <th>1700</th>\n",
       "      <td>Zimbabwe</td>\n",
       "      <td>Africa</td>\n",
       "      <td>1992</td>\n",
       "      <td>60.377</td>\n",
       "      <td>10.704340</td>\n",
       "      <td>693.420786</td>\n",
       "    </tr>\n",
       "    <tr>\n",
       "      <th>1701</th>\n",
       "      <td>Zimbabwe</td>\n",
       "      <td>Africa</td>\n",
       "      <td>1997</td>\n",
       "      <td>46.809</td>\n",
       "      <td>11.404948</td>\n",
       "      <td>792.449960</td>\n",
       "    </tr>\n",
       "    <tr>\n",
       "      <th>1702</th>\n",
       "      <td>Zimbabwe</td>\n",
       "      <td>Africa</td>\n",
       "      <td>2002</td>\n",
       "      <td>39.989</td>\n",
       "      <td>11.926563</td>\n",
       "      <td>672.038623</td>\n",
       "    </tr>\n",
       "    <tr>\n",
       "      <th>1703</th>\n",
       "      <td>Zimbabwe</td>\n",
       "      <td>Africa</td>\n",
       "      <td>2007</td>\n",
       "      <td>43.487</td>\n",
       "      <td>12.311143</td>\n",
       "      <td>469.709298</td>\n",
       "    </tr>\n",
       "  </tbody>\n",
       "</table>\n",
       "<p>1704 rows × 6 columns</p>\n",
       "</div>"
      ],
      "text/plain": [
       "          country continent  year  life_expectancy  population_millions  \\\n",
       "0     Afghanistan      Asia  1952           28.801             8.425333   \n",
       "1     Afghanistan      Asia  1957           30.332             9.240934   \n",
       "2     Afghanistan      Asia  1962           31.997            10.267083   \n",
       "3     Afghanistan      Asia  1967           34.020            11.537966   \n",
       "4     Afghanistan      Asia  1972           36.088            13.079460   \n",
       "...           ...       ...   ...              ...                  ...   \n",
       "1699     Zimbabwe    Africa  1987           62.351             9.216418   \n",
       "1700     Zimbabwe    Africa  1992           60.377            10.704340   \n",
       "1701     Zimbabwe    Africa  1997           46.809            11.404948   \n",
       "1702     Zimbabwe    Africa  2002           39.989            11.926563   \n",
       "1703     Zimbabwe    Africa  2007           43.487            12.311143   \n",
       "\n",
       "      gdp_per_capita  \n",
       "0         779.445314  \n",
       "1         820.853030  \n",
       "2         853.100710  \n",
       "3         836.197138  \n",
       "4         739.981106  \n",
       "...              ...  \n",
       "1699      706.157306  \n",
       "1700      693.420786  \n",
       "1701      792.449960  \n",
       "1702      672.038623  \n",
       "1703      469.709298  \n",
       "\n",
       "[1704 rows x 6 columns]"
      ]
     },
     "metadata": {},
     "output_type": "display_data"
    }
   ],
   "source": [
    "display(gapminder_df)"
   ]
  }
 ],
 "metadata": {
  "kernelspec": {
   "display_name": "Python 3",
   "language": "python",
   "name": "python3"
  },
  "language_info": {
   "codemirror_mode": {
    "name": "ipython",
    "version": 3
   },
   "file_extension": ".py",
   "mimetype": "text/x-python",
   "name": "python",
   "nbconvert_exporter": "python",
   "pygments_lexer": "ipython3",
   "version": "3.11.1"
  }
 },
 "nbformat": 4,
 "nbformat_minor": 2
}
